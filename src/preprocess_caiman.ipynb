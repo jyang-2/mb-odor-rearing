{
 "cells": [
  {
   "cell_type": "code",
   "metadata": {
    "collapsed": true,
    "pycharm": {
     "name": "#%%\n"
    }
   },
   "source": [
    "import bokeh.plotting as bpl\n",
    "import cv2\n",
    "import glob\n",
    "import logging\n",
    "import matplotlib.pyplot as plt\n",
    "import numpy as np\n",
    "import os\n",
    "from pathlib import Path\n",
    "import ryim\n",
    "from tifffile.tifffile import imsave\n",
    "import caiman as cm\n",
    "import caiman.source_extraction.cnmf as cnmf\n",
    "\n",
    "flydate = '2021-08-30'\n",
    "flynum = 2\n",
    "movnam = 'movie_001'\n",
    "\n",
    "DATA_2P_DIR = Path.cwd().joinpath('data', '2p')\n",
    "xml_file = Path.cwd().joinpath('data', '2p', flydate, str(flynum), movnam, 'Experiment.xml')\n",
    "raw_file = Path.cwd().joinpath('data', '2p', flydate, str(flynum), movnam, 'Image_001_001.raw')"
   ],
   "execution_count": 5,
   "outputs": []
  },
  {
   "cell_type": "markdown",
   "source": [
    "# Load memory-mapped data"
   ],
   "metadata": {
    "collapsed": false,
    "pycharm": {
     "name": "#%% md\n"
    }
   }
  },
  {
   "cell_type": "code",
   "execution_count": 7,
   "outputs": [
    {
     "ename": "AttributeError",
     "evalue": "module 'ryim' has no attribute 'thorimagels'",
     "output_type": "error",
     "traceback": [
      "\u001B[0;31m---------------------------------------------------------------------------\u001B[0m",
      "\u001B[0;31mAttributeError\u001B[0m                            Traceback (most recent call last)",
      "\u001B[0;32m/tmp/ipykernel_31899/2776390361.py\u001B[0m in \u001B[0;36m<module>\u001B[0;34m\u001B[0m\n\u001B[0;32m----> 1\u001B[0;31m \u001B[0mmeta\u001B[0m \u001B[0;34m=\u001B[0m \u001B[0mryim\u001B[0m\u001B[0;34m.\u001B[0m\u001B[0mthorimagels\u001B[0m\u001B[0;34m.\u001B[0m\u001B[0mread_metadata\u001B[0m\u001B[0;34m(\u001B[0m\u001B[0mxml_file\u001B[0m\u001B[0;34m)\u001B[0m\u001B[0;34m\u001B[0m\u001B[0;34m\u001B[0m\u001B[0m\n\u001B[0m",
      "\u001B[0;31mAttributeError\u001B[0m: module 'ryim' has no attribute 'thorimagels'"
     ]
    }
   ],
   "source": [
    "meta = ryim.thorimagels.read_metadata(xml_file)"
   ],
   "metadata": {
    "collapsed": false,
    "pycharm": {
     "name": "#%%\n"
    }
   }
  }
 ],
 "metadata": {
  "kernelspec": {
   "display_name": "Python 3",
   "language": "python",
   "name": "python3"
  },
  "language_info": {
   "codemirror_mode": {
    "name": "ipython",
    "version": 2
   },
   "file_extension": ".py",
   "mimetype": "text/x-python",
   "name": "python",
   "nbconvert_exporter": "python",
   "pygments_lexer": "ipython2",
   "version": "2.7.6"
  }
 },
 "nbformat": 4,
 "nbformat_minor": 0
}